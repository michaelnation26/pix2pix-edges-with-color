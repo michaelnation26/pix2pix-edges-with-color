{
 "cells": [
  {
   "cell_type": "markdown",
   "metadata": {
    "colab_type": "text",
    "id": "EAtn-0H5Yi8o"
   },
   "source": [
    "#### Next two cells are only needed for a Google Colab environment."
   ]
  },
  {
   "cell_type": "code",
   "execution_count": null,
   "metadata": {
    "colab": {},
    "colab_type": "code",
    "id": "Jp4JpEGmYzfc"
   },
   "outputs": [],
   "source": [
    "from google.colab import drive\n",
    "drive.mount('/content/drive')"
   ]
  },
  {
   "cell_type": "code",
   "execution_count": null,
   "metadata": {
    "colab": {},
    "colab_type": "code",
    "id": "_GcPU--hYzff"
   },
   "outputs": [],
   "source": [
    "%cd '/content/drive/My Drive/CodingProjects/pix2pix'"
   ]
  },
  {
   "cell_type": "code",
   "execution_count": null,
   "metadata": {
    "colab": {},
    "colab_type": "code",
    "id": "r3gyQsK-Yzfh"
   },
   "outputs": [],
   "source": [
    "import os\n",
    "import warnings\n",
    "warnings.filterwarnings('ignore')\n",
    "\n",
    "from keras.models import load_model\n",
    "from keras.preprocessing.image import load_img\n",
    "import numpy as np\n",
    "\n",
    "from utils import config, training_utils\n",
    "from utils.data_generator import DataGenerator\n",
    "from utils.models import get_discriminator_model, get_gan_model, get_generator_model"
   ]
  },
  {
   "cell_type": "markdown",
   "metadata": {
    "colab_type": "text",
    "id": "azMmhAgkqXtM"
   },
   "source": [
    "#### Download Dataset"
   ]
  },
  {
   "cell_type": "code",
   "execution_count": null,
   "metadata": {
    "colab": {},
    "colab_type": "code",
    "id": "V7vWOQkYqV5R"
   },
   "outputs": [],
   "source": [
    "from keras.utils import get_file\n",
    "\n",
    "get_file('data.zip', config.PREPROCESSED_DATASET_URL, extract=True, \n",
    "         cache_dir='.', cache_subdir='')"
   ]
  },
  {
   "cell_type": "markdown",
   "metadata": {
    "colab_type": "text",
    "id": "zdxduOUnYi8v"
   },
   "source": [
    "## Data Generators"
   ]
  },
  {
   "cell_type": "code",
   "execution_count": null,
   "metadata": {
    "colab": {},
    "colab_type": "code",
    "id": "qVrZE0YaFrmX"
   },
   "outputs": [],
   "source": [
    "training_generator = DataGenerator(config.TRAINING_SOURCE_DIR, config.TRAINING_TARGET_DIR, \n",
    "                                   config.TRAINING_BATCH_SIZE, is_training=True)\n",
    "\n",
    "validation_generator = DataGenerator(config.VALIDATION_SOURCE_DIR, config.VALIDATION_TARGET_DIR, \n",
    "                                     config.VALIDATION_BATCH_SIZE, is_training=False)"
   ]
  },
  {
   "cell_type": "markdown",
   "metadata": {
    "colab_type": "text",
    "id": "LVjlBk4fYi8y"
   },
   "source": [
    "# Train GAN Model"
   ]
  },
  {
   "cell_type": "code",
   "execution_count": null,
   "metadata": {
    "colab": {},
    "colab_type": "code",
    "id": "jyH89lunYzfn"
   },
   "outputs": [],
   "source": [
    "def train(gen_model, d_model, gan_model, training_generator, validation_generator=None, \n",
    "          epochs=100, initial_epoch=0, ck_pt_freq=5, output_dir='output', save_models=True):\n",
    "    for epoch_num in range(initial_epoch, epochs):\n",
    "        for imgs_source, imgs_target_real, d_labels_real, d_labels_fake in training_generator:\n",
    "            imgs_target_fake = gen_model.predict(imgs_source)\n",
    "            \n",
    "            # update discriminator\n",
    "            d_loss_real = d_model.train_on_batch([imgs_source, imgs_target_real], d_labels_real)\n",
    "            d_loss_fake = d_model.train_on_batch([imgs_source, imgs_target_fake], d_labels_fake)\n",
    "\n",
    "            # update generator\n",
    "            g_loss, _, _ = gan_model.train_on_batch(imgs_source, [d_labels_real, imgs_target_real])\n",
    "        \n",
    "        if validation_generator is not None and (epoch_num+1) % ck_pt_freq == 0:\n",
    "            print(f'epoch {epoch_num+1}, g_loss: {g_loss:.2f}')\n",
    "            training_utils.save_results(gen_model, d_model, validation_generator, \n",
    "                                        epoch_num+1, output_dir, save_models)\n",
    "        \n",
    "        training_generator.on_epoch_end()"
   ]
  },
  {
   "cell_type": "code",
   "execution_count": null,
   "metadata": {
    "colab": {},
    "colab_type": "code",
    "id": "3BWt8us9Yzfr",
    "scrolled": true
   },
   "outputs": [],
   "source": [
    "gen_model = get_generator_model()\n",
    "d_model = get_discriminator_model()\n",
    "gan_model = get_gan_model(gen_model, d_model)"
   ]
  },
  {
   "cell_type": "code",
   "execution_count": null,
   "metadata": {
    "colab": {},
    "colab_type": "code",
    "id": "LISiND26Yzft",
    "scrolled": true
   },
   "outputs": [],
   "source": [
    "train(gen_model, d_model, gan_model, training_generator, validation_generator, \n",
    "      epochs=50, ck_pt_freq=1, output_dir='output_pts350', save_models=True)"
   ]
  }
 ],
 "metadata": {
  "accelerator": "GPU",
  "colab": {
   "collapsed_sections": [],
   "name": "train_gan.ipynb",
   "provenance": []
  },
  "kernelspec": {
   "display_name": "Python 3",
   "language": "python",
   "name": "python3"
  },
  "language_info": {
   "codemirror_mode": {
    "name": "ipython",
    "version": 3
   },
   "file_extension": ".py",
   "mimetype": "text/x-python",
   "name": "python",
   "nbconvert_exporter": "python",
   "pygments_lexer": "ipython3",
   "version": "3.7.4"
  }
 },
 "nbformat": 4,
 "nbformat_minor": 1
}
