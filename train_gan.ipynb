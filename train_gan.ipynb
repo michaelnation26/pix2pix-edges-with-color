{
 "cells": [
  {
   "cell_type": "markdown",
   "metadata": {
    "colab_type": "text",
    "id": "EAtn-0H5Yi8o"
   },
   "source": [
    "#### Next two cells are only needed for a Google Colab environment."
   ]
  },
  {
   "cell_type": "code",
   "execution_count": 1,
   "metadata": {
    "colab": {
     "base_uri": "https://localhost:8080/",
     "height": 122
    },
    "colab_type": "code",
    "executionInfo": {
     "elapsed": 23777,
     "status": "ok",
     "timestamp": 1569284267855,
     "user": {
      "displayName": "Michael Nation",
      "photoUrl": "https://lh3.googleusercontent.com/a-/AAuE7mBm-VWR65ET5zzP_V1hkfTZANrX5pq1LA5CNV3S=s64",
      "userId": "13752494364938472639"
     },
     "user_tz": 420
    },
    "id": "Jp4JpEGmYzfc",
    "outputId": "675260ac-2f5a-4d56-bef9-132e757ee54e"
   },
   "outputs": [
    {
     "name": "stdout",
     "output_type": "stream",
     "text": [
      "Go to this URL in a browser: https://accounts.google.com/o/oauth2/auth?client_id=947318989803-6bn6qk8qdgf4n4g3pfee6491hc0brc4i.apps.googleusercontent.com&redirect_uri=urn%3Aietf%3Awg%3Aoauth%3A2.0%3Aoob&scope=email%20https%3A%2F%2Fwww.googleapis.com%2Fauth%2Fdocs.test%20https%3A%2F%2Fwww.googleapis.com%2Fauth%2Fdrive%20https%3A%2F%2Fwww.googleapis.com%2Fauth%2Fdrive.photos.readonly%20https%3A%2F%2Fwww.googleapis.com%2Fauth%2Fpeopleapi.readonly&response_type=code\n",
      "\n",
      "Enter your authorization code:\n",
      "··········\n",
      "Mounted at /content/drive\n"
     ]
    }
   ],
   "source": [
    "from google.colab import drive\n",
    "drive.mount('/content/drive')"
   ]
  },
  {
   "cell_type": "code",
   "execution_count": 2,
   "metadata": {
    "colab": {
     "base_uri": "https://localhost:8080/",
     "height": 34
    },
    "colab_type": "code",
    "executionInfo": {
     "elapsed": 876,
     "status": "ok",
     "timestamp": 1569284292114,
     "user": {
      "displayName": "Michael Nation",
      "photoUrl": "https://lh3.googleusercontent.com/a-/AAuE7mBm-VWR65ET5zzP_V1hkfTZANrX5pq1LA5CNV3S=s64",
      "userId": "13752494364938472639"
     },
     "user_tz": 420
    },
    "id": "_GcPU--hYzff",
    "outputId": "082f1dec-c9dd-40da-a0b8-bf490ded324c"
   },
   "outputs": [
    {
     "name": "stdout",
     "output_type": "stream",
     "text": [
      "/content/drive/My Drive/CodingProjects/pix2pix\n"
     ]
    }
   ],
   "source": [
    "%cd '/content/drive/My Drive/CodingProjects/pix2pix'"
   ]
  },
  {
   "cell_type": "code",
   "execution_count": 3,
   "metadata": {
    "colab": {
     "base_uri": "https://localhost:8080/",
     "height": 34
    },
    "colab_type": "code",
    "executionInfo": {
     "elapsed": 5065,
     "status": "ok",
     "timestamp": 1569284296606,
     "user": {
      "displayName": "Michael Nation",
      "photoUrl": "https://lh3.googleusercontent.com/a-/AAuE7mBm-VWR65ET5zzP_V1hkfTZANrX5pq1LA5CNV3S=s64",
      "userId": "13752494364938472639"
     },
     "user_tz": 420
    },
    "id": "r3gyQsK-Yzfh",
    "outputId": "90393135-3ae1-41a0-f193-c1540e334d45"
   },
   "outputs": [
    {
     "name": "stderr",
     "output_type": "stream",
     "text": [
      "Using TensorFlow backend.\n"
     ]
    }
   ],
   "source": [
    "import os\n",
    "import warnings\n",
    "warnings.filterwarnings('ignore')\n",
    "\n",
    "from keras.models import load_model\n",
    "from keras.preprocessing.image import load_img\n",
    "from matplotlib import pyplot\n",
    "import numpy as np\n",
    "\n",
    "from utils import config\n",
    "from utils.data_generator import DataGenerator\n",
    "from utils.models import get_discriminator_model, get_gan_model, get_generator_model"
   ]
  },
  {
   "cell_type": "markdown",
   "metadata": {
    "colab_type": "text",
    "id": "zdxduOUnYi8v"
   },
   "source": [
    "## Data Generators"
   ]
  },
  {
   "cell_type": "code",
   "execution_count": 0,
   "metadata": {
    "colab": {},
    "colab_type": "code",
    "id": "qVrZE0YaFrmX"
   },
   "outputs": [],
   "source": [
    "training_generator = DataGenerator(config.TRAINING_SOURCE_DIR, config.TRAINING_TARGET_DIR, \n",
    "                                   config.TRAINING_BATCH_SIZE, is_training=True)\n",
    "\n",
    "validation_generator = DataGenerator(config.VALIDATION_SOURCE_DIR, config.VALIDATION_TARGET_DIR, \n",
    "                                     config.VALIDATION_BATCH_SIZE, is_training=False)"
   ]
  },
  {
   "cell_type": "code",
   "execution_count": 0,
   "metadata": {
    "colab": {},
    "colab_type": "code",
    "id": "CbC0TTd5Yzfm"
   },
   "outputs": [],
   "source": [
    "def save_validation_results(gen_model, d_model, validation_generator, epoch_num, output_dir, save_models):\n",
    "    output_imgs_dir = os.path.join(output_dir, 'images')\n",
    "    output_models_dir = os.path.join(output_dir, 'models')\n",
    "    os.makedirs(output_imgs_dir, exist_ok=True)\n",
    "    os.makedirs(output_models_dir, exist_ok=True)\n",
    "\n",
    "    for idx, (imgs_source, imgs_target_real, _, _) in enumerate(validation_generator):\n",
    "        imgs_target_fake = gen_model.predict(imgs_source)\n",
    "        n_examples = len(imgs_source)\n",
    "\n",
    "        # scale all pixels from [-1,1] to [0,1]\n",
    "        imgs_source = (imgs_source + 1) / 2.0\n",
    "        imgs_target_real = (imgs_target_real + 1) / 2.0\n",
    "        imgs_target_fake = (imgs_target_fake + 1) / 2.0\n",
    "\n",
    "        # plot source images\n",
    "        for i in range(n_examples):\n",
    "            pyplot.subplot(3, n_examples, 1 + i)\n",
    "            pyplot.axis('off')\n",
    "            pyplot.imshow(imgs_source[i])\n",
    "\n",
    "        # plot generated target image\n",
    "        for i in range(n_examples):\n",
    "            pyplot.subplot(3, n_examples, 1 + n_examples + i)\n",
    "            pyplot.axis('off')\n",
    "            pyplot.imshow(imgs_target_fake[i])\n",
    "\n",
    "        # plot real target image\n",
    "        for i in range(n_examples):\n",
    "            pyplot.subplot(3, n_examples, 1 + n_examples*2 + i)\n",
    "            pyplot.axis('off')\n",
    "            pyplot.imshow(imgs_target_real[i])\n",
    "\n",
    "        # save plot to file\n",
    "        img_output_filename = f'plot_{epoch_num:05d}_{idx}.png'\n",
    "        filepath = os.path.join(output_imgs_dir, img_output_filename)\n",
    "        pyplot.savefig(filepath, dpi=400)\n",
    "        pyplot.close()\n",
    "    \n",
    "    if save_models:\n",
    "        gen_model_output_filename = os.path.join(output_models_dir, f'{epoch_num:05d}_gen_model.h5')\n",
    "        d_model_output_filename = os.path.join(output_models_dir, f'{epoch_num:05d}_d_model.h5')\n",
    "        gen_model.save(gen_model_output_filename)\n",
    "        d_model.save(d_model_output_filename)"
   ]
  },
  {
   "cell_type": "markdown",
   "metadata": {
    "colab_type": "text",
    "id": "LVjlBk4fYi8y"
   },
   "source": [
    "## Train GAN Model"
   ]
  },
  {
   "cell_type": "code",
   "execution_count": 0,
   "metadata": {
    "colab": {},
    "colab_type": "code",
    "id": "jyH89lunYzfn"
   },
   "outputs": [],
   "source": [
    "def train(gen_model, d_model, gan_model, training_generator, validation_generator=None, \n",
    "          epochs=100, initial_epoch=0, ck_pt_freq=10, output_dir='output', save_models=True):\n",
    "    for epoch_num in range(initial_epoch, epochs):\n",
    "        for imgs_source, imgs_target_real, d_labels_real, d_labels_fake in training_generator:\n",
    "            imgs_target_fake = gen_model.predict(imgs_source)\n",
    "            \n",
    "            # update discriminator\n",
    "            d_loss_real = d_model.train_on_batch([imgs_source, imgs_target_real], d_labels_real)\n",
    "            d_loss_fake = d_model.train_on_batch([imgs_source, imgs_target_fake], d_labels_fake)\n",
    "\n",
    "            # update generator\n",
    "            g_loss, _, _ = gan_model.train_on_batch(imgs_source, [d_labels_real, imgs_target_real])\n",
    "        \n",
    "        if validation_generator is not None and (epoch_num+1) % ck_pt_freq == 0:\n",
    "            print(f'epoch {epoch_num+1}, g_loss: {g_loss:.2f}')\n",
    "            save_validation_results(gen_model, d_model, validation_generator, \n",
    "                                    epoch_num+1, output_dir, save_models)\n",
    "        \n",
    "        training_generator.on_epoch_end()"
   ]
  },
  {
   "cell_type": "code",
   "execution_count": 7,
   "metadata": {
    "colab": {
     "base_uri": "https://localhost:8080/",
     "height": 377
    },
    "colab_type": "code",
    "executionInfo": {
     "elapsed": 29055,
     "status": "ok",
     "timestamp": 1569284326636,
     "user": {
      "displayName": "Michael Nation",
      "photoUrl": "https://lh3.googleusercontent.com/a-/AAuE7mBm-VWR65ET5zzP_V1hkfTZANrX5pq1LA5CNV3S=s64",
      "userId": "13752494364938472639"
     },
     "user_tz": 420
    },
    "id": "3BWt8us9Yzfr",
    "outputId": "3d076941-87ea-4524-b4c3-1e38577a7ab0",
    "scrolled": true
   },
   "outputs": [
    {
     "name": "stdout",
     "output_type": "stream",
     "text": [
      "WARNING:tensorflow:From /usr/local/lib/python3.6/dist-packages/keras/backend/tensorflow_backend.py:541: The name tf.placeholder is deprecated. Please use tf.compat.v1.placeholder instead.\n",
      "\n",
      "WARNING:tensorflow:From /usr/local/lib/python3.6/dist-packages/keras/backend/tensorflow_backend.py:4409: The name tf.random_normal is deprecated. Please use tf.random.normal instead.\n",
      "\n",
      "WARNING:tensorflow:From /usr/local/lib/python3.6/dist-packages/keras/backend/tensorflow_backend.py:66: The name tf.get_default_graph is deprecated. Please use tf.compat.v1.get_default_graph instead.\n",
      "\n",
      "WARNING:tensorflow:From /usr/local/lib/python3.6/dist-packages/keras/backend/tensorflow_backend.py:190: The name tf.get_default_session is deprecated. Please use tf.compat.v1.get_default_session instead.\n",
      "\n",
      "WARNING:tensorflow:From /usr/local/lib/python3.6/dist-packages/keras/backend/tensorflow_backend.py:197: The name tf.ConfigProto is deprecated. Please use tf.compat.v1.ConfigProto instead.\n",
      "\n",
      "WARNING:tensorflow:From /usr/local/lib/python3.6/dist-packages/keras/backend/tensorflow_backend.py:2041: The name tf.nn.fused_batch_norm is deprecated. Please use tf.compat.v1.nn.fused_batch_norm instead.\n",
      "\n",
      "WARNING:tensorflow:From /usr/local/lib/python3.6/dist-packages/keras/backend/tensorflow_backend.py:3733: calling dropout (from tensorflow.python.ops.nn_ops) with keep_prob is deprecated and will be removed in a future version.\n",
      "Instructions for updating:\n",
      "Please use `rate` instead of `keep_prob`. Rate should be set to `rate = 1 - keep_prob`.\n",
      "WARNING:tensorflow:From /usr/local/lib/python3.6/dist-packages/keras/optimizers.py:793: The name tf.train.Optimizer is deprecated. Please use tf.compat.v1.train.Optimizer instead.\n",
      "\n",
      "WARNING:tensorflow:From /usr/local/lib/python3.6/dist-packages/tensorflow/python/ops/nn_impl.py:180: add_dispatch_support.<locals>.wrapper (from tensorflow.python.ops.array_ops) is deprecated and will be removed in a future version.\n",
      "Instructions for updating:\n",
      "Use tf.where in 2.0, which has the same broadcast rule as np.where\n"
     ]
    }
   ],
   "source": [
    "LOAD_FROM_CK_PT = True\n",
    "if LOAD_FROM_CK_PT:\n",
    "    num = '00210'\n",
    "    gen_model = load_model(f'output_b4_pts250/models/{num}_gen_model.h5')\n",
    "    d_model = load_model(f'output_b4_pts250/models/{num}_d_model.h5')\n",
    "else:\n",
    "    gen_model = get_generator_model()\n",
    "    d_model = get_discriminator_model()\n",
    "\n",
    "gan_model = get_gan_model(gen_model, d_model, L1_loss_lambda=100)"
   ]
  },
  {
   "cell_type": "code",
   "execution_count": 8,
   "metadata": {
    "colab": {
     "base_uri": "https://localhost:8080/",
     "height": 511
    },
    "colab_type": "code",
    "executionInfo": {
     "elapsed": 19611096,
     "status": "error",
     "timestamp": 1569306478202,
     "user": {
      "displayName": "Michael Nation",
      "photoUrl": "https://lh3.googleusercontent.com/a-/AAuE7mBm-VWR65ET5zzP_V1hkfTZANrX5pq1LA5CNV3S=s64",
      "userId": "13752494364938472639"
     },
     "user_tz": 420
    },
    "id": "LISiND26Yzft",
    "outputId": "05da8e69-002b-4fe5-f722-4514f84cc325",
    "scrolled": true
   },
   "outputs": [
    {
     "name": "stdout",
     "output_type": "stream",
     "text": [
      "epoch 220, g_loss: 12.85\n",
      "epoch 230, g_loss: 11.91\n",
      "epoch 240, g_loss: 17.53\n",
      "epoch 250, g_loss: 14.21\n",
      "epoch 260, g_loss: 11.38\n",
      "epoch 270, g_loss: 10.91\n",
      "epoch 280, g_loss: 13.50\n",
      "epoch 290, g_loss: 10.82\n",
      "epoch 300, g_loss: 14.38\n",
      "epoch 310, g_loss: 11.90\n",
      "epoch 320, g_loss: 15.90\n"
     ]
    },
    {
     "ename": "KeyboardInterrupt",
     "evalue": "ignored",
     "output_type": "error",
     "traceback": [
      "\u001b[0;31m---------------------------------------------------------------------------\u001b[0m",
      "\u001b[0;31mKeyboardInterrupt\u001b[0m                         Traceback (most recent call last)",
      "\u001b[0;32m<ipython-input-8-29fe44c451f2>\u001b[0m in \u001b[0;36m<module>\u001b[0;34m()\u001b[0m\n\u001b[1;32m      1\u001b[0m train(gen_model, d_model, gan_model, training_generator, validation_generator, \n\u001b[0;32m----> 2\u001b[0;31m       epochs=1000, initial_epoch=210, ck_pt_freq=10, output_dir='output_b4_pts250', save_models=True)\n\u001b[0m",
      "\u001b[0;32m<ipython-input-6-51b20002a1a8>\u001b[0m in \u001b[0;36mtrain\u001b[0;34m(gen_model, d_model, gan_model, training_generator, validation_generator, epochs, initial_epoch, ck_pt_freq, output_dir, save_models)\u001b[0m\n\u001b[1;32m      7\u001b[0m             \u001b[0;31m# update discriminator\u001b[0m\u001b[0;34m\u001b[0m\u001b[0;34m\u001b[0m\u001b[0;34m\u001b[0m\u001b[0m\n\u001b[1;32m      8\u001b[0m             \u001b[0md_loss_real\u001b[0m \u001b[0;34m=\u001b[0m \u001b[0md_model\u001b[0m\u001b[0;34m.\u001b[0m\u001b[0mtrain_on_batch\u001b[0m\u001b[0;34m(\u001b[0m\u001b[0;34m[\u001b[0m\u001b[0mimgs_source\u001b[0m\u001b[0;34m,\u001b[0m \u001b[0mimgs_target_real\u001b[0m\u001b[0;34m]\u001b[0m\u001b[0;34m,\u001b[0m \u001b[0md_labels_real\u001b[0m\u001b[0;34m)\u001b[0m\u001b[0;34m\u001b[0m\u001b[0;34m\u001b[0m\u001b[0m\n\u001b[0;32m----> 9\u001b[0;31m             \u001b[0md_loss_fake\u001b[0m \u001b[0;34m=\u001b[0m \u001b[0md_model\u001b[0m\u001b[0;34m.\u001b[0m\u001b[0mtrain_on_batch\u001b[0m\u001b[0;34m(\u001b[0m\u001b[0;34m[\u001b[0m\u001b[0mimgs_source\u001b[0m\u001b[0;34m,\u001b[0m \u001b[0mimgs_target_fake\u001b[0m\u001b[0;34m]\u001b[0m\u001b[0;34m,\u001b[0m \u001b[0md_labels_fake\u001b[0m\u001b[0;34m)\u001b[0m\u001b[0;34m\u001b[0m\u001b[0;34m\u001b[0m\u001b[0m\n\u001b[0m\u001b[1;32m     10\u001b[0m \u001b[0;34m\u001b[0m\u001b[0m\n\u001b[1;32m     11\u001b[0m             \u001b[0;31m# update generator\u001b[0m\u001b[0;34m\u001b[0m\u001b[0;34m\u001b[0m\u001b[0;34m\u001b[0m\u001b[0m\n",
      "\u001b[0;32m/usr/local/lib/python3.6/dist-packages/keras/engine/training.py\u001b[0m in \u001b[0;36mtrain_on_batch\u001b[0;34m(self, x, y, sample_weight, class_weight)\u001b[0m\n\u001b[1;32m   1447\u001b[0m             \u001b[0mins\u001b[0m \u001b[0;34m=\u001b[0m \u001b[0mx\u001b[0m \u001b[0;34m+\u001b[0m \u001b[0my\u001b[0m \u001b[0;34m+\u001b[0m \u001b[0msample_weights\u001b[0m\u001b[0;34m\u001b[0m\u001b[0;34m\u001b[0m\u001b[0m\n\u001b[1;32m   1448\u001b[0m         \u001b[0mself\u001b[0m\u001b[0;34m.\u001b[0m\u001b[0m_make_train_function\u001b[0m\u001b[0;34m(\u001b[0m\u001b[0;34m)\u001b[0m\u001b[0;34m\u001b[0m\u001b[0;34m\u001b[0m\u001b[0m\n\u001b[0;32m-> 1449\u001b[0;31m         \u001b[0moutputs\u001b[0m \u001b[0;34m=\u001b[0m \u001b[0mself\u001b[0m\u001b[0;34m.\u001b[0m\u001b[0mtrain_function\u001b[0m\u001b[0;34m(\u001b[0m\u001b[0mins\u001b[0m\u001b[0;34m)\u001b[0m\u001b[0;34m\u001b[0m\u001b[0;34m\u001b[0m\u001b[0m\n\u001b[0m\u001b[1;32m   1450\u001b[0m         \u001b[0;32mreturn\u001b[0m \u001b[0munpack_singleton\u001b[0m\u001b[0;34m(\u001b[0m\u001b[0moutputs\u001b[0m\u001b[0;34m)\u001b[0m\u001b[0;34m\u001b[0m\u001b[0;34m\u001b[0m\u001b[0m\n\u001b[1;32m   1451\u001b[0m \u001b[0;34m\u001b[0m\u001b[0m\n",
      "\u001b[0;32m/usr/local/lib/python3.6/dist-packages/keras/backend/tensorflow_backend.py\u001b[0m in \u001b[0;36m__call__\u001b[0;34m(self, inputs)\u001b[0m\n\u001b[1;32m   2977\u001b[0m                     \u001b[0;32mreturn\u001b[0m \u001b[0mself\u001b[0m\u001b[0;34m.\u001b[0m\u001b[0m_legacy_call\u001b[0m\u001b[0;34m(\u001b[0m\u001b[0minputs\u001b[0m\u001b[0;34m)\u001b[0m\u001b[0;34m\u001b[0m\u001b[0;34m\u001b[0m\u001b[0m\n\u001b[1;32m   2978\u001b[0m \u001b[0;34m\u001b[0m\u001b[0m\n\u001b[0;32m-> 2979\u001b[0;31m             \u001b[0;32mreturn\u001b[0m \u001b[0mself\u001b[0m\u001b[0;34m.\u001b[0m\u001b[0m_call\u001b[0m\u001b[0;34m(\u001b[0m\u001b[0minputs\u001b[0m\u001b[0;34m)\u001b[0m\u001b[0;34m\u001b[0m\u001b[0;34m\u001b[0m\u001b[0m\n\u001b[0m\u001b[1;32m   2980\u001b[0m         \u001b[0;32melse\u001b[0m\u001b[0;34m:\u001b[0m\u001b[0;34m\u001b[0m\u001b[0;34m\u001b[0m\u001b[0m\n\u001b[1;32m   2981\u001b[0m             \u001b[0;32mif\u001b[0m \u001b[0mpy_any\u001b[0m\u001b[0;34m(\u001b[0m\u001b[0mis_tensor\u001b[0m\u001b[0;34m(\u001b[0m\u001b[0mx\u001b[0m\u001b[0;34m)\u001b[0m \u001b[0;32mfor\u001b[0m \u001b[0mx\u001b[0m \u001b[0;32min\u001b[0m \u001b[0minputs\u001b[0m\u001b[0;34m)\u001b[0m\u001b[0;34m:\u001b[0m\u001b[0;34m\u001b[0m\u001b[0;34m\u001b[0m\u001b[0m\n",
      "\u001b[0;32m/usr/local/lib/python3.6/dist-packages/keras/backend/tensorflow_backend.py\u001b[0m in \u001b[0;36m_call\u001b[0;34m(self, inputs)\u001b[0m\n\u001b[1;32m   2935\u001b[0m             \u001b[0mfetched\u001b[0m \u001b[0;34m=\u001b[0m \u001b[0mself\u001b[0m\u001b[0;34m.\u001b[0m\u001b[0m_callable_fn\u001b[0m\u001b[0;34m(\u001b[0m\u001b[0;34m*\u001b[0m\u001b[0marray_vals\u001b[0m\u001b[0;34m,\u001b[0m \u001b[0mrun_metadata\u001b[0m\u001b[0;34m=\u001b[0m\u001b[0mself\u001b[0m\u001b[0;34m.\u001b[0m\u001b[0mrun_metadata\u001b[0m\u001b[0;34m)\u001b[0m\u001b[0;34m\u001b[0m\u001b[0;34m\u001b[0m\u001b[0m\n\u001b[1;32m   2936\u001b[0m         \u001b[0;32melse\u001b[0m\u001b[0;34m:\u001b[0m\u001b[0;34m\u001b[0m\u001b[0;34m\u001b[0m\u001b[0m\n\u001b[0;32m-> 2937\u001b[0;31m             \u001b[0mfetched\u001b[0m \u001b[0;34m=\u001b[0m \u001b[0mself\u001b[0m\u001b[0;34m.\u001b[0m\u001b[0m_callable_fn\u001b[0m\u001b[0;34m(\u001b[0m\u001b[0;34m*\u001b[0m\u001b[0marray_vals\u001b[0m\u001b[0;34m)\u001b[0m\u001b[0;34m\u001b[0m\u001b[0;34m\u001b[0m\u001b[0m\n\u001b[0m\u001b[1;32m   2938\u001b[0m         \u001b[0;32mreturn\u001b[0m \u001b[0mfetched\u001b[0m\u001b[0;34m[\u001b[0m\u001b[0;34m:\u001b[0m\u001b[0mlen\u001b[0m\u001b[0;34m(\u001b[0m\u001b[0mself\u001b[0m\u001b[0;34m.\u001b[0m\u001b[0moutputs\u001b[0m\u001b[0;34m)\u001b[0m\u001b[0;34m]\u001b[0m\u001b[0;34m\u001b[0m\u001b[0;34m\u001b[0m\u001b[0m\n\u001b[1;32m   2939\u001b[0m \u001b[0;34m\u001b[0m\u001b[0m\n",
      "\u001b[0;32m/usr/local/lib/python3.6/dist-packages/tensorflow/python/client/session.py\u001b[0m in \u001b[0;36m__call__\u001b[0;34m(self, *args, **kwargs)\u001b[0m\n\u001b[1;32m   1456\u001b[0m         ret = tf_session.TF_SessionRunCallable(self._session._session,\n\u001b[1;32m   1457\u001b[0m                                                \u001b[0mself\u001b[0m\u001b[0;34m.\u001b[0m\u001b[0m_handle\u001b[0m\u001b[0;34m,\u001b[0m \u001b[0margs\u001b[0m\u001b[0;34m,\u001b[0m\u001b[0;34m\u001b[0m\u001b[0;34m\u001b[0m\u001b[0m\n\u001b[0;32m-> 1458\u001b[0;31m                                                run_metadata_ptr)\n\u001b[0m\u001b[1;32m   1459\u001b[0m         \u001b[0;32mif\u001b[0m \u001b[0mrun_metadata\u001b[0m\u001b[0;34m:\u001b[0m\u001b[0;34m\u001b[0m\u001b[0;34m\u001b[0m\u001b[0m\n\u001b[1;32m   1460\u001b[0m           \u001b[0mproto_data\u001b[0m \u001b[0;34m=\u001b[0m \u001b[0mtf_session\u001b[0m\u001b[0;34m.\u001b[0m\u001b[0mTF_GetBuffer\u001b[0m\u001b[0;34m(\u001b[0m\u001b[0mrun_metadata_ptr\u001b[0m\u001b[0;34m)\u001b[0m\u001b[0;34m\u001b[0m\u001b[0;34m\u001b[0m\u001b[0m\n",
      "\u001b[0;31mKeyboardInterrupt\u001b[0m: "
     ]
    }
   ],
   "source": [
    "train(gen_model, d_model, gan_model, training_generator, validation_generator, \n",
    "      epochs=1000, initial_epoch=210, ck_pt_freq=10, output_dir='output_b4_pts250', save_models=True)"
   ]
  },
  {
   "cell_type": "code",
   "execution_count": 0,
   "metadata": {
    "colab": {},
    "colab_type": "code",
    "id": "u02_vwFtYzfv"
   },
   "outputs": [],
   "source": [
    "!kill -9 -1"
   ]
  },
  {
   "cell_type": "code",
   "execution_count": 0,
   "metadata": {
    "colab": {},
    "colab_type": "code",
    "id": "_Upd_dyTOV3P"
   },
   "outputs": [],
   "source": [
    "# save_validation_results(gen_model, validation_generator, 99, output_dir='output_lambda_100_dot')"
   ]
  },
  {
   "cell_type": "code",
   "execution_count": 0,
   "metadata": {
    "colab": {},
    "colab_type": "code",
    "id": "YGnlfhAW0S5h"
   },
   "outputs": [],
   "source": []
  }
 ],
 "metadata": {
  "accelerator": "GPU",
  "colab": {
   "collapsed_sections": [],
   "name": "train_gan.ipynb",
   "provenance": []
  },
  "kernelspec": {
   "display_name": "Python 3",
   "language": "python",
   "name": "python3"
  },
  "language_info": {
   "codemirror_mode": {
    "name": "ipython",
    "version": 3
   },
   "file_extension": ".py",
   "mimetype": "text/x-python",
   "name": "python",
   "nbconvert_exporter": "python",
   "pygments_lexer": "ipython3",
   "version": "3.7.4"
  }
 },
 "nbformat": 4,
 "nbformat_minor": 1
}
