{
 "cells": [
  {
   "cell_type": "code",
   "execution_count": null,
   "metadata": {},
   "outputs": [],
   "source": [
    "import os\n",
    "import warnings\n",
    "warnings.filterwarnings('ignore')\n",
    "\n",
    "from keras.models import load_model\n",
    "from keras.utils import get_file\n",
    "import matplotlib.pyplot as plt\n",
    "%matplotlib inline\n",
    "import numpy as np\n",
    "\n",
    "from utils import config\n",
    "from utils.data_generator import get_img_for_model"
   ]
  },
  {
   "cell_type": "markdown",
   "metadata": {},
   "source": [
    "### Download Generator Model"
   ]
  },
  {
   "cell_type": "code",
   "execution_count": null,
   "metadata": {},
   "outputs": [],
   "source": [
    "os.makedirs('models', exist_ok=True)\n",
    "get_file('gen_model.h5', \n",
    "         config.TRAINED_GENERATOR_MODEL_URL,\n",
    "         cache_dir='models', cache_subdir='')"
   ]
  },
  {
   "cell_type": "code",
   "execution_count": null,
   "metadata": {
    "scrolled": true
   },
   "outputs": [],
   "source": [
    "gen_model = load_model('models/gen_model.h5')"
   ]
  },
  {
   "cell_type": "code",
   "execution_count": null,
   "metadata": {},
   "outputs": [],
   "source": [
    "img_source = get_img_for_model('images/1.jpg')\n",
    "imgs_source = np.array([img_source]) # batch of 1 image\n",
    "imgs_target_fake = gen_model.predict(imgs_source)\n",
    "imgs_target_fake = (imgs_target_fake + 1) / 2.0\n",
    "img_target_fake = imgs_target_fake[0]\n",
    "\n",
    "plt.figure(figsize=(5,5))\n",
    "plt.axis('off')\n",
    "plt.imshow(img_target_fake)"
   ]
  }
 ],
 "metadata": {
  "kernelspec": {
   "display_name": "Python 3",
   "language": "python",
   "name": "python3"
  },
  "language_info": {
   "codemirror_mode": {
    "name": "ipython",
    "version": 3
   },
   "file_extension": ".py",
   "mimetype": "text/x-python",
   "name": "python",
   "nbconvert_exporter": "python",
   "pygments_lexer": "ipython3",
   "version": "3.7.4"
  }
 },
 "nbformat": 4,
 "nbformat_minor": 2
}
