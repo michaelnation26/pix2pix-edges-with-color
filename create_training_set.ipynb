{
 "cells": [
  {
   "cell_type": "code",
   "execution_count": null,
   "metadata": {},
   "outputs": [],
   "source": [
    "import warnings\n",
    "warnings.filterwarnings('ignore')\n",
    "import glob\n",
    "import os\n",
    "\n",
    "import cv2\n",
    "from keras.preprocessing.image import load_img, save_img\n",
    "from keras.utils import get_file\n",
    "import numpy as np\n",
    "\n",
    "from utils import config"
   ]
  },
  {
   "cell_type": "markdown",
   "metadata": {},
   "source": [
    "### Download Zappos50K dataset"
   ]
  },
  {
   "cell_type": "code",
   "execution_count": null,
   "metadata": {},
   "outputs": [],
   "source": [
    "get_file(f'{config.ZAPPOS_DATASET_NAME}.zip', config.ZAPPOS_DATASET_URL, extract=True, \n",
    "         cache_dir='.', cache_subdir='')"
   ]
  },
  {
   "cell_type": "markdown",
   "metadata": {},
   "source": [
    "### Define Functions"
   ]
  },
  {
   "cell_type": "code",
   "execution_count": null,
   "metadata": {},
   "outputs": [],
   "source": [
    "def create_source_imgs(target_dir, source_dir):\n",
    "    pathname = f'{target_dir}/*.jpg'\n",
    "    for filepath in glob.glob(pathname):\n",
    "        img_target = load_img(filepath, target_size=(config.IMG_HEIGHT, config.IMG_WIDTH))\n",
    "        img_target = np.array(img_target)\n",
    "        img_source = detect_edges(img_target)\n",
    "\n",
    "        filename = os.path.basename(filepath)\n",
    "        img_source_filepath = os.path.join(source_dir, filename)\n",
    "        save_img(img_source_filepath, img_source)\n",
    "\n",
    "def create_target_images():\n",
    "    pathname = f'{config.ZAPPOS_DATASET_SNEAKERS_DIR}/*/*.jpg'\n",
    "    for filepath in glob.glob(pathname):\n",
    "        filename = os.path.basename(filepath)\n",
    "        img_target = load_img(filepath, target_size=(config.IMG_HEIGHT, config.IMG_WIDTH))\n",
    "        img_target = np.array(img_target)\n",
    "        img_target_filepath = os.path.join(config.TRAINING_TARGET_DIR, filename)\n",
    "        save_img(img_target_filepath, img_target)\n",
    "            \n",
    "def detect_edges(img):\n",
    "    img_gray = cv2.cvtColor(img, cv2.COLOR_RGB2GRAY)\n",
    "    img_gray = cv2.bilateralFilter(img_gray, 5, 50, 50)\n",
    "    img_gray_edges = cv2.Canny(img_gray, 45, 100)\n",
    "    img_gray_edges = cv2.bitwise_not(img_gray_edges) # invert black/white\n",
    "    img_edges = cv2.cvtColor(img_gray_edges, cv2.COLOR_GRAY2RGB)\n",
    "    \n",
    "    return img_edges\n",
    "\n",
    "def resize_imgs_in_directory(img_dir):\n",
    "    for filepath in glob.glob(f'{img_dir}/*.jpg'):\n",
    "        img = load_img(filepath, target_size=(config.IMG_HEIGHT, config.IMG_WIDTH))\n",
    "        img = np.array(img)\n",
    "        save_img(filepath, img)"
   ]
  },
  {
   "cell_type": "markdown",
   "metadata": {},
   "source": [
    "##  Training Set"
   ]
  },
  {
   "cell_type": "code",
   "execution_count": null,
   "metadata": {},
   "outputs": [],
   "source": [
    "create_target_images()"
   ]
  },
  {
   "cell_type": "code",
   "execution_count": null,
   "metadata": {},
   "outputs": [],
   "source": [
    "create_source_imgs(config.TRAINING_TARGET_DIR, config.TRAINING_SOURCE_DIR)"
   ]
  },
  {
   "cell_type": "markdown",
   "metadata": {},
   "source": [
    "## Validation Set"
   ]
  },
  {
   "cell_type": "code",
   "execution_count": null,
   "metadata": {},
   "outputs": [],
   "source": [
    "resize_imgs_in_directory(config.VALIDATION_TARGET_DIR)"
   ]
  },
  {
   "cell_type": "code",
   "execution_count": null,
   "metadata": {},
   "outputs": [],
   "source": [
    "create_source_imgs(config.VALIDATION_TARGET_DIR, config.VALIDATION_SOURCE_DIR)"
   ]
  }
 ],
 "metadata": {
  "kernelspec": {
   "display_name": "Python 3",
   "language": "python",
   "name": "python3"
  },
  "language_info": {
   "codemirror_mode": {
    "name": "ipython",
    "version": 3
   },
   "file_extension": ".py",
   "mimetype": "text/x-python",
   "name": "python",
   "nbconvert_exporter": "python",
   "pygments_lexer": "ipython3",
   "version": "3.7.4"
  }
 },
 "nbformat": 4,
 "nbformat_minor": 2
}
