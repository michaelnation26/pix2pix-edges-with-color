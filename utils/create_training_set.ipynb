{
 "cells": [
  {
   "cell_type": "markdown",
   "metadata": {},
   "source": [
    "https://www.pyimagesearch.com/2019/03/04/holistically-nested-edge-detection-with-opencv-and-deep-learning/"
   ]
  },
  {
   "cell_type": "code",
   "execution_count": null,
   "metadata": {},
   "outputs": [],
   "source": [
    "import warnings\n",
    "warnings.filterwarnings('ignore')\n",
    "import glob\n",
    "import os\n",
    "\n",
    "import cv2\n",
    "from keras.preprocessing.image import load_img, save_img\n",
    "from keras.utils import get_file\n",
    "import numpy as np\n",
    "\n",
    "import config"
   ]
  },
  {
   "cell_type": "code",
   "execution_count": null,
   "metadata": {},
   "outputs": [],
   "source": [
    "# change current directory to project root\n",
    "current_dir = os.getcwd().split('/')[-1]\n",
    "if current_dir != 'pix2pix-edges-with-color': \n",
    "    %cd '..'"
   ]
  },
  {
   "cell_type": "markdown",
   "metadata": {},
   "source": [
    "### Download Zappos50K dataset"
   ]
  },
  {
   "cell_type": "code",
   "execution_count": null,
   "metadata": {},
   "outputs": [],
   "source": [
    "get_file(f'{config.ZAPPOS_DATASET_NAME}.zip', config.ZAPPOS_DATASET_URL, extract=True, \n",
    "         cache_dir='.', cache_subdir='')"
   ]
  },
  {
   "cell_type": "code",
   "execution_count": null,
   "metadata": {},
   "outputs": [],
   "source": [
    "def detect_edges(img):\n",
    "    img_gray = cv2.cvtColor(img, cv2.COLOR_RGB2GRAY)\n",
    "    img_gray = cv2.bilateralFilter(img_gray, 5, 50, 50)\n",
    "    img_gray_edges = cv2.Canny(img_gray, 45, 100)\n",
    "    img_gray_edges = cv2.bitwise_not(img_gray_edges) # invert black/white\n",
    "    img_edges = cv2.cvtColor(img_gray_edges, cv2.COLOR_GRAY2RGB)\n",
    "    \n",
    "    return img_edges\n",
    "\n",
    "def get_shoe_model_id_to_filepaths_dict(data_dir):\n",
    "    \"\"\"The naming convention for each image in the Zappos dataset is SHOE_MODEL_ID.SHOE_COLOR_PATTERN_ID.jpg.\n",
    "    Only images with a minimum frequency of two shoe model ids  are kept. \n",
    "\n",
    "    e.g. For the list of image names below, image 2.1.jpg will not be kept since the shoe model id only occurs once.\n",
    "    1.1.jpg\n",
    "    1.2.jpg\n",
    "    2.1.jpg\n",
    "    \"\"\"\n",
    "    model_id_to_filepaths = {}\n",
    "    for filepath in glob.glob(f'{data_dir}/*.jpg'):\n",
    "        filename = os.path.basename(filepath)\n",
    "        model_id, pattern_id = filename.split('.')[:2]\n",
    "        filepaths = model_id_to_filepaths.get(model_id, [])\n",
    "        filepaths.append(filepath)\n",
    "        model_id_to_filepaths[model_id] = filepaths\n",
    "    \n",
    "    model_id_to_filepaths = {model_id: filepaths \n",
    "                             for model_id, filepaths in model_id_to_filepaths.items()\n",
    "                             if len(filepaths) >= config.ZAPPOS_DATASET_MIN_SHOE_MODEL_ID_COUNT}\n",
    "    \n",
    "    return model_id_to_filepaths"
   ]
  },
  {
   "cell_type": "markdown",
   "metadata": {},
   "source": [
    "###  Copy target images"
   ]
  },
  {
   "cell_type": "code",
   "execution_count": null,
   "metadata": {},
   "outputs": [],
   "source": [
    "# data_dir = f'{config.ZAPPOS_DATASET_SNEAKERS_DIR}/Nike*'\n",
    "# model_id_to_filepaths = get_shoe_model_id_to_filepaths_dict(data_dir)\n",
    "\n",
    "# for filepaths in model_id_to_filepaths.values():\n",
    "#     for filepath in filepaths:\n",
    "#         filename = os.path.basename(filepath)\n",
    "#         img_target = load_img(filepath, target_size=(config.IMG_HEIGHT, config.IMG_WIDTH))\n",
    "#         img_target = np.array(img_target)\n",
    "#         img_target_filepath = os.path.join(config.TRAINING_TARGET_DIR, filename)\n",
    "#         save_img(img_target_filepath, img_target)"
   ]
  },
  {
   "cell_type": "markdown",
   "metadata": {},
   "source": [
    "### Create source (edge) images"
   ]
  },
  {
   "cell_type": "code",
   "execution_count": null,
   "metadata": {},
   "outputs": [],
   "source": [
    "model_id_to_filepaths = get_shoe_model_id_to_filepaths_dict(config.TRAINING_TARGET_DIR)\n",
    "\n",
    "for filepaths in model_id_to_filepaths.values():\n",
    "    img_first = load_img(filepaths[0], target_size=(config.IMG_HEIGHT, config.IMG_WIDTH))\n",
    "    img_first = np.array(img_first)\n",
    "    img_edges = detect_edges(img_first)\n",
    "    \n",
    "    for filepath in filepaths:\n",
    "        filename = os.path.basename(filepath)\n",
    "        img_source_filepath = os.path.join(config.TRAINING_SOURCE_DIR, filename)\n",
    "        save_img(img_source_filepath, img_edges)"
   ]
  },
  {
   "cell_type": "code",
   "execution_count": null,
   "metadata": {},
   "outputs": [],
   "source": []
  }
 ],
 "metadata": {
  "kernelspec": {
   "display_name": "Python 3",
   "language": "python",
   "name": "python3"
  },
  "language_info": {
   "codemirror_mode": {
    "name": "ipython",
    "version": 3
   },
   "file_extension": ".py",
   "mimetype": "text/x-python",
   "name": "python",
   "nbconvert_exporter": "python",
   "pygments_lexer": "ipython3",
   "version": "3.7.4"
  }
 },
 "nbformat": 4,
 "nbformat_minor": 2
}
